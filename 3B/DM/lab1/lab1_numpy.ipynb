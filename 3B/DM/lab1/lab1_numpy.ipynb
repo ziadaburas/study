{
  "nbformat": 4,
  "nbformat_minor": 0,
  "metadata": {
    "colab": {
      "provenance": []
    },
    "kernelspec": {
      "name": "python3",
      "display_name": "Python 3"
    },
    "language_info": {
      "name": "python"
    }
  },
  "cells": [
    {
      "cell_type": "code",
      "execution_count": 1,
      "metadata": {
        "colab": {
          "base_uri": "https://localhost:8080/"
        },
        "id": "mIqEDQWRkut0",
        "outputId": "dafd0c30-9a1e-44e9-fee1-943778747deb"
      },
      "outputs": [
        {
          "output_type": "stream",
          "name": "stdout",
          "text": [
            "1. array(): [1 2 3 4 5]\n"
          ]
        }
      ],
      "source": [
        "# ziad aburas group A\n",
        "import numpy as np\n",
        "\n",
        "arr1 = np.array([1, 2, 3, 4, 5])\n",
        "print(\"1. array():\", arr1)"
      ]
    },
    {
      "cell_type": "code",
      "source": [
        "arr2 = np.array([[1,2,3,4,5],[6,7,8,9,10]])\n",
        "print(arr2)\n",
        "print(f\"array shape : {arr2.shape}\")\n"
      ],
      "metadata": {
        "colab": {
          "base_uri": "https://localhost:8080/"
        },
        "id": "351DYWP-vR3E",
        "outputId": "94c819ab-09b4-401c-aad7-adca47af2e85"
      },
      "execution_count": 15,
      "outputs": [
        {
          "output_type": "stream",
          "name": "stdout",
          "text": [
            "[[ 1  2  3  4  5]\n",
            " [ 6  7  8  9 10]]\n",
            "array shape : (2, 5)\n"
          ]
        }
      ]
    },
    {
      "cell_type": "code",
      "source": [
        "arr3= arr2.reshape(5,2)\n",
        "print(f\"reshaped array {arr3} \\n new shape : {arr3.shape}\")"
      ],
      "metadata": {
        "colab": {
          "base_uri": "https://localhost:8080/"
        },
        "id": "77ly82wJlhdY",
        "outputId": "5dd1ce3a-126f-4f93-d309-186fd8e7ad7d"
      },
      "execution_count": 16,
      "outputs": [
        {
          "output_type": "stream",
          "name": "stdout",
          "text": [
            "reshaped array [[ 1  2]\n",
            " [ 3  4]\n",
            " [ 5  6]\n",
            " [ 7  8]\n",
            " [ 9 10]] \n",
            " new shape : (5, 2)\n"
          ]
        }
      ]
    },
    {
      "cell_type": "code",
      "source": [
        "arr4= arr3.reshape(-1)\n",
        "print(f\"1d array : {arr4}\")"
      ],
      "metadata": {
        "colab": {
          "base_uri": "https://localhost:8080/"
        },
        "id": "UhJYrrZcxK3H",
        "outputId": "545b93c7-bd50-472b-98b0-64d3ff7edd00"
      },
      "execution_count": 17,
      "outputs": [
        {
          "output_type": "stream",
          "name": "stdout",
          "text": [
            "1d array : [ 1  2  3  4  5  6  7  8  9 10]\n"
          ]
        }
      ]
    },
    {
      "cell_type": "code",
      "source": [
        "print(f\"sub array 1-5 : {arr4[:5]}\")\n",
        "print(f\"sub array three elements in end : {arr4[-3:]}\")"
      ],
      "metadata": {
        "colab": {
          "base_uri": "https://localhost:8080/"
        },
        "id": "XLyCdJLCxdpq",
        "outputId": "80571d87-1de0-41d4-b5e9-ac27fcecf3a0"
      },
      "execution_count": 20,
      "outputs": [
        {
          "output_type": "stream",
          "name": "stdout",
          "text": [
            "sub array 1-5 : [1 2 3 4 5]\n",
            "sub array three elements in end : [ 8  9 10]\n"
          ]
        }
      ]
    },
    {
      "cell_type": "code",
      "source": [
        "arr5= arr4.astype('U')\n",
        "print(f\"last type : {arr4.dtype}\",arr4)\n",
        "print(f\"new type : {arr5.dtype}\",arr5)"
      ],
      "metadata": {
        "colab": {
          "base_uri": "https://localhost:8080/"
        },
        "id": "O4ENl9sNyAoT",
        "outputId": "03692ca1-51d4-4f18-fb4d-7d052ad44d08"
      },
      "execution_count": 27,
      "outputs": [
        {
          "output_type": "stream",
          "name": "stdout",
          "text": [
            "last type : int64 [ 1  2  3  4  5  6  7  8  9 10]\n",
            "new type : <U21 ['1' '2' '3' '4' '5' '6' '7' '8' '9' '10']\n"
          ]
        }
      ]
    },
    {
      "cell_type": "code",
      "source": [
        "# accses 1d array\n",
        "sum=0\n",
        "for x in arr4:\n",
        "  sum+=x\n",
        "print(f\"sum of array elements : {sum}\")"
      ],
      "metadata": {
        "colab": {
          "base_uri": "https://localhost:8080/"
        },
        "id": "_dluguiDyxQr",
        "outputId": "3c406ab1-19d3-43b7-a20e-7498eb40add3"
      },
      "execution_count": 29,
      "outputs": [
        {
          "output_type": "stream",
          "name": "stdout",
          "text": [
            "sum of array elements : 55\n"
          ]
        }
      ]
    },
    {
      "cell_type": "code",
      "source": [
        "# acces multi dim array\n",
        "print(\"normal \")\n",
        "for x in arr2:\n",
        "  for y in x:\n",
        "    print(y,end='')\n",
        "print(\"\\nusing nditer\")\n",
        "for x in np.nditer(arr2):\n",
        "  print(x,end='')\n",
        "print(\"\\nwith index\")\n",
        "for i,x in np.ndenumerate(arr2):\n",
        "  print(i,x)\n"
      ],
      "metadata": {
        "colab": {
          "base_uri": "https://localhost:8080/"
        },
        "id": "bCZT_cMhzLfT",
        "outputId": "fcd6c623-bfee-4389-fe81-17c6141f09a3"
      },
      "execution_count": 35,
      "outputs": [
        {
          "output_type": "stream",
          "name": "stdout",
          "text": [
            "normal \n",
            "12345678910\n",
            "using nditer\n",
            "12345678910\n",
            "with index\n",
            "(0, 0) 1\n",
            "(0, 1) 2\n",
            "(0, 2) 3\n",
            "(0, 3) 4\n",
            "(0, 4) 5\n",
            "(1, 0) 6\n",
            "(1, 1) 7\n",
            "(1, 2) 8\n",
            "(1, 3) 9\n",
            "(1, 4) 10\n"
          ]
        }
      ]
    },
    {
      "cell_type": "code",
      "source": [
        "arr6 = np.concatenate((arr2.reshape(2,5), arr3.reshape(2,5)))\n",
        "print(f\"arr2 : \\n{arr2}\\n\\narr3 : \\n {arr3} \\n\\nconcatenated array : \\n{arr6}\")"
      ],
      "metadata": {
        "colab": {
          "base_uri": "https://localhost:8080/"
        },
        "id": "3NXn-bsQz844",
        "outputId": "11dde94c-1341-4cc3-fc21-c14e665d6478"
      },
      "execution_count": 48,
      "outputs": [
        {
          "output_type": "stream",
          "name": "stdout",
          "text": [
            "arr2 : \n",
            "[[ 1  2  3  4  5]\n",
            " [ 6  7  8  9 10]]\n",
            "\n",
            "arr3 : \n",
            " [[ 1  2]\n",
            " [ 3  4]\n",
            " [ 5  6]\n",
            " [ 7  8]\n",
            " [ 9 10]] \n",
            "\n",
            "concatenated array : \n",
            "[[ 1  2  3  4  5]\n",
            " [ 6  7  8  9 10]\n",
            " [ 1  2  3  4  5]\n",
            " [ 6  7  8  9 10]]\n"
          ]
        }
      ]
    },
    {
      "cell_type": "code",
      "source": [
        "# acces elements using condition\n",
        "print(f\"arr2 \",arr2)\n",
        "print(f\"even nums in arr2 : {arr2[arr2%2==0]}\")"
      ],
      "metadata": {
        "colab": {
          "base_uri": "https://localhost:8080/"
        },
        "id": "_JOzRXMv1WPW",
        "outputId": "129c1541-ed8c-499a-f036-83bf72d10d64"
      },
      "execution_count": 51,
      "outputs": [
        {
          "output_type": "stream",
          "name": "stdout",
          "text": [
            "arr2  [[ 1  2  3  4  5]\n",
            " [ 6  7  8  9 10]]\n",
            "even nums in arr2 : [ 2  4  6  8 10]\n"
          ]
        }
      ]
    }
  ]
}